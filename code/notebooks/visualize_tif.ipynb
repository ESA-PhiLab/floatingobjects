{
 "cells": [
  {
   "cell_type": "code",
   "execution_count": null,
   "outputs": [],
   "source": [
    "print('aa')"
   ],
   "metadata": {
    "collapsed": false,
    "pycharm": {
     "name": "#%%\n"
    }
   }
  },
  {
   "cell_type": "code",
   "execution_count": null,
   "outputs": [],
   "source": [
    "import numpy as np\n",
    "import rasterio\n",
    "import matplotlib.pyplot as plt\n",
    "import matplotlib\n",
    "from data import l2abands, l1cbands\n",
    "from skimage.exposure import equalize_hist\n",
    "from transforms import calculate_fdi, calculate_ndvi"
   ],
   "metadata": {
    "collapsed": false,
    "pycharm": {
     "name": "#%%\n",
     "is_executing": true
    }
   }
  },
  {
   "cell_type": "code",
   "execution_count": null,
   "outputs": [],
   "source": [
    "def acquire_data(file_name):\n",
    "    \"\"\"Read an L1C Sentinel-2 image from a cropped TIF. The image is represented as TOA reflectance.\n",
    "    Args:\n",
    "        file_name (str): event ID.\n",
    "    Raises:\n",
    "        ValueError: impossible to find information on the database.\n",
    "    Returns:\n",
    "        np.array: array containing B8A, B11, B12 of a Seintel-2 L1C cropped tif.\n",
    "        dictionary: dictionary containing lat and lon for every image point.\n",
    "    \"\"\"\n",
    "\n",
    "    with rasterio.open(file_name) as raster:\n",
    "        img_np = raster.read()\n",
    "        sentinel_img = img_np.astype(np.float32)\n",
    "        height = sentinel_img.shape[1]\n",
    "        width = sentinel_img.shape[2]\n",
    "        cols, rows = np.meshgrid(np.arange(width), np.arange(height))\n",
    "        xs, ys = rasterio.transform.xy(raster.transform, rows, cols)\n",
    "        lons = np.array(ys)\n",
    "        lats = np.array(xs)\n",
    "        coords_dict = {\"lat\": lats, \"lon\": lons}\n",
    "\n",
    "    sentinel_img = (\n",
    "        sentinel_img.transpose(1, 2, 0) / 10000 + 1e-13\n",
    "    )  # Diving for the default quantification value\n",
    "\n",
    "    return sentinel_img, coords_dict"
   ],
   "metadata": {
    "collapsed": false,
    "pycharm": {
     "name": "#%%\n",
     "is_executing": true
    }
   }
  },
  {
   "cell_type": "code",
   "execution_count": null,
   "outputs": [],
   "source": [
    "def load_convert_tiff(tiff):\n",
    "\n",
    "    with rasterio.open(tiff) as src:\n",
    "        arr = src.read()\n",
    "        meta = src.meta\n",
    "\n",
    "    if arr.shape[0] == 12:\n",
    "        bands = l2abands\n",
    "    elif arr.shape[0] == 13:\n",
    "        bands = l1cbands\n",
    "    else:\n",
    "        raise ValueError(\"expected tiff to have either 12 (L2A) or 13 (L1C) bands\")\n",
    "\n",
    "    rgb = equalize_hist(arr[[bands.index(\"B4\"), bands.index(\"B3\"), bands.index(\"B2\")]])\n",
    "\n",
    "    cmap_magma = matplotlib.cm.get_cmap('magma')\n",
    "    cmap_viridis = matplotlib.cm.get_cmap('viridis')\n",
    "\n",
    "    norm_fdi = matplotlib.colors.Normalize(vmin=0, vmax=0.1)\n",
    "    norm_ndvi = matplotlib.colors.Normalize(vmin=-.4, vmax=0.4)\n",
    "\n",
    "    ndvi = cmap_viridis(norm_ndvi(calculate_ndvi(arr)))\n",
    "    ndvi = np.rollaxis(ndvi, axis=2)\n",
    "    fdi = cmap_magma(norm_fdi(calculate_fdi(arr)))\n",
    "    fdi = np.rollaxis(fdi, axis=2)\n",
    "    return rgb, ndvi, fdi, meta"
   ],
   "metadata": {
    "collapsed": false,
    "pycharm": {
     "name": "#%%\n",
     "is_executing": true
    }
   }
  },
  {
   "cell_type": "code",
   "execution_count": null,
   "outputs": [],
   "source": [
    "file_name = \"../../data2/data/london_20180611.tif\"\n",
    "sentinel_img, coords_dict = acquire_data(file_name)\n",
    "for i in range(0, 11):\n",
    "    print(i)\n",
    "#    plt.imshow(sentinel_img[:, :, i:i+3])\n",
    "#    plt.show()\n",
    "print(coords_dict['lat'].shape)\n",
    "\n",
    "rgb, ndvi, fdi, meta = load_convert_tiff(file_name)\n",
    "plt.imshow(np.moveaxis(rgb, 0, -1))\n",
    "plt.show()\n"
   ],
   "metadata": {
    "collapsed": false,
    "pycharm": {
     "name": "#%%\n",
     "is_executing": true
    }
   }
  },
  {
   "cell_type": "code",
   "execution_count": null,
   "outputs": [],
   "source": [],
   "metadata": {
    "collapsed": false,
    "pycharm": {
     "name": "#%%\n"
    }
   }
  },
  {
   "cell_type": "code",
   "execution_count": null,
   "outputs": [],
   "source": [],
   "metadata": {
    "collapsed": false,
    "pycharm": {
     "name": "#%%\n"
    }
   }
  }
 ],
 "metadata": {
  "kernelspec": {
   "display_name": "Python 3",
   "language": "python",
   "name": "python3"
  },
  "language_info": {
   "codemirror_mode": {
    "name": "ipython",
    "version": 2
   },
   "file_extension": ".py",
   "mimetype": "text/x-python",
   "name": "python",
   "nbconvert_exporter": "python",
   "pygments_lexer": "ipython2",
   "version": "2.7.6"
  }
 },
 "nbformat": 4,
 "nbformat_minor": 0
}